Winter is coming! During the contest, your first job is to design a standard heater with a fixed warm radius to warm all the houses.
Every house can be warmed, as long as the house is within the heater's warm radius range. 
Given the positions of houses and heaters on a horizontal line, return the minimum radius standard of heaters so that those heaters could cover all houses.
Notice that all the heaters follow your radius standard, and the warm radius will the same.


#TC : nlogm


class Solution:
    def findRadius(self, houses: List[int], heaters: List[int]) -> int:
        min_dist= 0
        heaters.extend([float('-inf'),float('inf')])
        heaters.sort()   #mlogm
        
        #runs in nlogm
        for h in houses :#n
            #print(h)
            i = bisect.bisect_left(heaters,h)#logm
            #print(heaters[i-1])
            #print('i index',i)
            min_dist = max(min_dist,min(abs(h-heaters[i-1]),abs(h-heaters[i])))
            #print('min_dist',min_dist) 
        return min_dist
