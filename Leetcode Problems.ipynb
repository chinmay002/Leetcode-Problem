{
 "cells": [
  {
   "cell_type": "code",
   "execution_count": null,
   "metadata": {},
   "outputs": [],
   "source": []
  },
  {
   "cell_type": "code",
   "execution_count": 315,
   "metadata": {},
   "outputs": [],
   "source": [
    "def removeDuplicates(a,value) -> int:\n",
    "    \n",
    "    while a.count(value)>0:\n",
    "        a.remove(value)\n",
    "    \n",
    "    \n",
    "    return len(a)   \n",
    "        \n",
    "\n",
    "removeDuplicates(a=[3,1,1,2,3],value=1)           "
   ]
  },
  {
   "cell_type": "code",
   "execution_count": null,
   "metadata": {},
   "outputs": [],
   "source": [
    "\n"
   ]
  },
  {
   "cell_type": "code",
   "execution_count": 270,
   "metadata": {},
   "outputs": [
    {
     "name": "stdout",
     "output_type": "stream",
     "text": [
      "pos 1\n",
      "before 0 0\n",
      "pos 2\n",
      "before 1 0\n",
      "1 0\n",
      "[0, 1, 1, 1, 2, 4]\n",
      "pos 3\n",
      "before 1 1\n",
      "pos 4\n",
      "before 2 1\n",
      "2 1\n",
      "[0, 1, 2, 1, 2, 4]\n",
      "pos 5\n",
      "before 4 2\n",
      "4 2\n",
      "[0, 1, 2, 4, 2, 4]\n"
     ]
    },
    {
     "data": {
      "text/plain": [
       "4"
      ]
     },
     "execution_count": 270,
     "metadata": {},
     "output_type": "execute_result"
    }
   ],
   "source": [
    "def removeDuplicates( nums) -> int:  \n",
    "        if len(nums) == 0:\n",
    "            return 0\n",
    "        \n",
    "        cur = 0\n",
    "        for pos in range(1, len(nums)):\n",
    "            print('pos',pos)\n",
    "            print('before',nums[pos],nums[cur])\n",
    "            if nums[pos] != nums[cur]:\n",
    "                print(nums[pos],nums[cur])\n",
    "                cur += 1\n",
    "                nums[cur] = nums[pos]\n",
    "                print(nums)\n",
    "        return cur+1\n",
    "    \n",
    "removeDuplicates( nums=[0,0,1,1,2,4])  "
   ]
  },
  {
   "cell_type": "code",
   "execution_count": 328,
   "metadata": {},
   "outputs": [
    {
     "data": {
      "text/plain": [
       "0"
      ]
     },
     "execution_count": 328,
     "metadata": {},
     "output_type": "execute_result"
    }
   ],
   "source": [
    "'''Implement strStr().\n",
    "\n",
    "Return the index of the first occurrence of needle in haystack, or -1 if needle is not part of haystack.\n",
    "'''\n",
    "def find(st,needle):\n",
    "    if st=='' or needle== '':\n",
    "        return 0\n",
    "    if needle in st:\n",
    "        return (st.index(needle))\n",
    "    else:\n",
    "        return -1\n",
    "find('','')"
   ]
  },
  {
   "cell_type": "code",
   "execution_count": 323,
   "metadata": {},
   "outputs": [
    {
     "name": "stdout",
     "output_type": "stream",
     "text": [
      "5\n"
     ]
    }
   ],
   "source": [
    "a='aaaaabba'\n",
    "n='bba'\n",
    "if n in a:\n",
    "    print(a.index(n))"
   ]
  },
  {
   "cell_type": "code",
   "execution_count": null,
   "metadata": {},
   "outputs": [],
   "source": [
    "## '''Given two integers dividend and divisor, divide two integers without using multiplication, division, and mod operator.'''\n",
    "def divide(a,b):\n",
    "    count=0\n",
    "    if a==0 or b==0 or abs(a)<abs(b):\n",
    "        return 0\n",
    "   \n",
    "    if a>=1 and b>=1:\n",
    "        print('enetering')\n",
    "        while a>=b:\n",
    "            a=a-b\n",
    "            count+=1\n",
    "        return count\n",
    "    elif a<=-1 or b<=-1:\n",
    "        print('here')\n",
    "        a=abs(a)\n",
    "        b=abs(b)\n",
    "        while a>=b:\n",
    "            a=a-b\n",
    "            count+=1\n",
    "        return -count\n",
    "        \n",
    "                \n",
    "divide(-5,-5)"
   ]
  },
  {
   "cell_type": "code",
   "execution_count": 142,
   "metadata": {},
   "outputs": [],
   "source": [
    "def divide(dividend,divisor):\n",
    "    sign=((dividend<0)!=(divisor<0))\n",
    "    #print(sign)\n",
    "    m=abs(dividend)\n",
    "    n=abs(divisor)\n",
    "    temp=0\n",
    "    quotient=0\n",
    "    for i in range(31,-1,-1):\n",
    "        \n",
    "        if (temp + (n << i) <= m):\n",
    "            temp += (n << i)\n",
    "            quotient |= 1 << i    \n",
    "            print(quotient)\n",
    "            print(temp)\n",
    "            \n",
    "    if sign:\n",
    "        return max(-quotient,-2147483648)\n",
    "    else:\n",
    "        return min(quotient,2147483647)"
   ]
  },
  {
   "cell_type": "code",
   "execution_count": 143,
   "metadata": {},
   "outputs": [
    {
     "name": "stdout",
     "output_type": "stream",
     "text": [
      "4\n",
      "12\n",
      "6\n",
      "18\n"
     ]
    },
    {
     "data": {
      "text/plain": [
       "6"
      ]
     },
     "execution_count": 143,
     "metadata": {},
     "output_type": "execute_result"
    }
   ],
   "source": [
    "divide(20,3)"
   ]
  },
  {
   "cell_type": "code",
   "execution_count": 18,
   "metadata": {},
   "outputs": [
    {
     "data": {
      "text/plain": [
       "5"
      ]
     },
     "execution_count": 18,
     "metadata": {},
     "output_type": "execute_result"
    }
   ],
   "source": [
    "'''Given a sorted array of distinct integers and a target value, return the index if the target is found.\n",
    "If not, return the index where it would be if it were inserted in order.'''\n",
    "\n",
    "def ind(a,val):\n",
    "    if val<a[0] :\n",
    "        return 0\n",
    "    elif val>a[-1]:\n",
    "        return len(a)\n",
    "    for i in range(len(a)):\n",
    "        if a[i]==val:\n",
    "            print(i)\n",
    "        elif a[i]<val and a[i+1]>val:\n",
    "            print(i+1)\n",
    "a=[2,3,4,8,9]\n",
    "ind(a,10)\n",
    "\n",
    "\n",
    "class Solution:\n",
    "    def searchInsert(self, nums: List[int], target: int) -> int:\n",
    "        \n",
    "        i=0\n",
    "        if nums[-1]<target:\n",
    "            return len(nums)\n",
    "        else:\n",
    "            while i in range(len(nums)):\n",
    "                if nums[i]<target:\n",
    "                    i=i+1\n",
    "                else:\n",
    "                    return i"
   ]
  },
  {
   "cell_type": "code",
   "execution_count": 29,
   "metadata": {},
   "outputs": [],
   "source": [
    "#find the length of last word, if no word then return 0\n",
    "\n",
    "def rd( s: str) -> int:\n",
    "         return  (len(s.split()[-1]) if s.split() else 0)"
   ]
  },
  {
   "cell_type": "code",
   "execution_count": 147,
   "metadata": {},
   "outputs": [
    {
     "data": {
      "text/plain": [
       "[1, 2, 5, 0]"
      ]
     },
     "execution_count": 147,
     "metadata": {},
     "output_type": "execute_result"
    }
   ],
   "source": [
    "'''\n",
    "Given a non-empty array of decimal digits representing a non-negative integer, increment one to the integer.\n",
    "The digits are stored such that the most significant digit is at the head of the list, ad each element in the array contains a single digit.\n",
    "You may assume the integer does not contain any leading zero, except the number 0 itself.\n",
    "'''\n",
    "\n",
    "class Solution:\n",
    "    def plusOne(self, digits) :\n",
    "        d1=''.join(map(str,digits))#'1234'\n",
    "        d1=str(int(d1)+1) #'1235'\\\n",
    "        return list(map(int,d1))\n",
    "    \n",
    "s=Solution()\n",
    "s.plusOne([1,2,4,9])"
   ]
  },
  {
   "cell_type": "code",
   "execution_count": 31,
   "metadata": {},
   "outputs": [],
   "source": [
    "'''Given two binary strings a and b, return their sum as a binary string.'''\n",
    "\n",
    "a='1010'\n",
    "b='1011'\n",
    "def add_bin(a,b):\n",
    "    if len(a)>len(b):\n",
    "        b=(len(a)-len(b))*'0'+b\n",
    "    elif len(a)<len(b):\n",
    "        a=(len(b)-len(a))*'0'+a\n",
    "    i=len(a)-1#3\n",
    "    c=[]\n",
    "    rem=0\n",
    "    while i>=0:\n",
    "    \n",
    "        if rem+int(a[i])+int(b[i])>1:\n",
    "            print('both 1 so rem=1')\n",
    "            rem=1\n",
    "            c.append(0)\n",
    "            i=i-1\n",
    "        elif a[i]=='0' and b[i]=='0' and rem==0:\n",
    "            print('both 0')\n",
    "            c.append(0)\n",
    "            i=i-1\n",
    "        else:\n",
    "            print('either one is 1')\n",
    "            c.append(1)\n",
    "            i=i-1\n",
    "    if rem ==1:\n",
    "        print('rem=1')\n",
    "        c.append(rem)\n",
    "    c=c[::-1]\n",
    "    return(''.join(map(str,c)))"
   ]
  },
  {
   "cell_type": "code",
   "execution_count": 32,
   "metadata": {},
   "outputs": [
    {
     "name": "stdout",
     "output_type": "stream",
     "text": [
      "both 0\n"
     ]
    },
    {
     "data": {
      "text/plain": [
       "'0'"
      ]
     },
     "execution_count": 32,
     "metadata": {},
     "output_type": "execute_result"
    }
   ],
   "source": [
    "add_bin('0','0')"
   ]
  },
  {
   "cell_type": "code",
   "execution_count": 49,
   "metadata": {},
   "outputs": [],
   "source": [
    "def add_b(a,b)   :     \n",
    "        if len(a)>len(b):\n",
    "            b=(len(a)-len(b))*'0'+b\n",
    "        elif len(a)<len(b):\n",
    "            a=(len(b)-len(a))*'0'+a\n",
    "        i=len(a)-1#3\n",
    "        c=[]\n",
    "        rem=0\n",
    "        while i>=0:\n",
    "            if rem+int(a[i])+int(b[i])>1:\n",
    "                if rem+int(a[i])+int(b[i])>2:\n",
    "                    print('sum is 2')\n",
    "                    rem=1\n",
    "                    c.append(1)\n",
    "                    i=i-1\n",
    "                else:\n",
    "                    print('sum is 1')\n",
    "                    rem=1\n",
    "                    c.append(0)\n",
    "                    i=i-1\n",
    "            elif int(a[i])==0 and int(b[i])==0 and rem==0:\n",
    "                print('all are 0')\n",
    "                c.append(0)\n",
    "                i=i-1\n",
    "            else:\n",
    "                print('either 1 is 1')\n",
    "                c.append(1)\n",
    "                rem=0\n",
    "                i=i-1\n",
    "        if rem ==1:\n",
    "            print('rem=1')\n",
    "            c.append(rem)        \n",
    "        c=c[::-1]\n",
    "        return(''.join(map(str,c)))"
   ]
  },
  {
   "cell_type": "code",
   "execution_count": 50,
   "metadata": {},
   "outputs": [
    {
     "name": "stdout",
     "output_type": "stream",
     "text": [
      "either 1 is 1\n",
      "sum is 1\n",
      "either 1 is 1\n",
      "sum is 1\n",
      "rem=1\n"
     ]
    },
    {
     "data": {
      "text/plain": [
       "'10101'"
      ]
     },
     "execution_count": 50,
     "metadata": {},
     "output_type": "execute_result"
    }
   ],
   "source": [
    "add_b('1010','1011')"
   ]
  },
  {
   "cell_type": "code",
   "execution_count": 46,
   "metadata": {},
   "outputs": [
    {
     "data": {
      "text/plain": [
       "'11110'"
      ]
     },
     "execution_count": 46,
     "metadata": {},
     "output_type": "execute_result"
    }
   ],
   "source": [
    "a='1111'\n",
    "b='1111'\n",
    "d=bin(int(a, 2) + int(b, 2))\n",
    "d[2:]"
   ]
  },
  {
   "cell_type": "code",
   "execution_count": 59,
   "metadata": {},
   "outputs": [
    {
     "name": "stdout",
     "output_type": "stream",
     "text": [
      "8\n"
     ]
    }
   ],
   "source": [
    "def fib(n):\n",
    "    if n<3:\n",
    "        return n\n",
    "    first=1\n",
    "    second=2\n",
    "    temp=0\n",
    "    for i in range(3,n+1):\n",
    "        temp=first+second\n",
    "        first=second\n",
    "        second=temp\n",
    "    print(second)    \n",
    "fib(5)    "
   ]
  },
  {
   "cell_type": "code",
   "execution_count": null,
   "metadata": {},
   "outputs": [],
   "source": [
    "#0,1,1,2,3,5,8\n",
    "n=0 (0)                c=0\n",
    "n=1 (1)                c=1\n",
    "n=2 (1,1)(2)           c=2\n",
    "n=3  (1,1,1)(1,2)(2,1) c=3\n",
    "n=4  (1,1,1,1)(2,2)(1,2,1,)(2,1,1)(1,1,2)count=5"
   ]
  },
  {
   "cell_type": "code",
   "execution_count": 36,
   "metadata": {},
   "outputs": [
    {
     "data": {
      "text/plain": [
       "964176192"
      ]
     },
     "execution_count": 36,
     "metadata": {},
     "output_type": "execute_result"
    }
   ],
   "source": [
    "#convert binary to decimal  \n",
    "def reverseBits( n):\n",
    "        n=str(n)[::-1]\n",
    "        n=int(n)\n",
    "        binary=n\n",
    "        i,dec,decimal=0,0,0\n",
    "        \n",
    "        while binary!=0:\n",
    "            dec=binary%10\n",
    "            decimal+=dec*(2**i)\n",
    "            binary=binary//10\n",
    "            i=i+1\n",
    "        return decimal \n",
    "    \n",
    "reverseBits('00000010100101000001111010011100')    \n"
   ]
  },
  {
   "cell_type": "code",
   "execution_count": 81,
   "metadata": {},
   "outputs": [
    {
     "data": {
      "text/plain": [
       "\"In Pascal's triangle, each number is the sum of the two numbers directly above it as shown:\""
      ]
     },
     "execution_count": 81,
     "metadata": {},
     "output_type": "execute_result"
    }
   ],
   "source": [
    "'''In Pascal's triangle, each number is the sum of the two numbers directly above it as shown:'''"
   ]
  },
  {
   "cell_type": "code",
   "execution_count": 80,
   "metadata": {},
   "outputs": [
    {
     "name": "stdout",
     "output_type": "stream",
     "text": [
      "inner== [1]\n",
      "[[1], [1, 1]]\n",
      "2\n",
      "i=== 2\n",
      "output[i-1]====== [1, 1]\n",
      "length output[i-1]====== 2\n",
      "inner== [1]\n",
      "[[1], [1, 1], [1, 2, 1]]\n",
      "3\n",
      "i=== 3\n",
      "output[i-1]====== [1, 2, 1]\n",
      "length output[i-1]====== 3\n",
      "output[i-1]====== [1, 2, 1]\n",
      "length output[i-1]====== 3\n",
      "inner== [1]\n",
      "[[1], [1, 1], [1, 2, 1], [1, 3, 3, 1]]\n",
      "4\n",
      "i=== 4\n",
      "output[i-1]====== [1, 3, 3, 1]\n",
      "length output[i-1]====== 4\n",
      "output[i-1]====== [1, 3, 3, 1]\n",
      "length output[i-1]====== 4\n",
      "output[i-1]====== [1, 3, 3, 1]\n",
      "length output[i-1]====== 4\n",
      "inner== [1]\n",
      "[[1], [1, 1], [1, 2, 1], [1, 3, 3, 1], [1, 4, 6, 4, 1]]\n",
      "5\n",
      "i=== 5\n",
      "output[i-1]====== [1, 4, 6, 4, 1]\n",
      "length output[i-1]====== 5\n",
      "output[i-1]====== [1, 4, 6, 4, 1]\n",
      "length output[i-1]====== 5\n",
      "output[i-1]====== [1, 4, 6, 4, 1]\n",
      "length output[i-1]====== 5\n",
      "output[i-1]====== [1, 4, 6, 4, 1]\n",
      "length output[i-1]====== 5\n",
      "[[1], [1, 1], [1, 2, 1], [1, 3, 3, 1], [1, 4, 6, 4, 1], [1, 5, 10, 10, 5, 1]]\n"
     ]
    }
   ],
   "source": [
    "class Solution:\n",
    "    def generate(self, numRows: int) -> List[List[int]]:\n",
    "        out=[]\n",
    "        i=0\n",
    "        while i !=numRows:\n",
    "            if i==0:\n",
    "                out.append([1])\n",
    "            elif i==1:\n",
    "                out.append([1,1])\n",
    "                \n",
    "            else:\n",
    "                inn=[1]\n",
    "                for j in range(len(out[i-1])-1):#0,1\n",
    "                    #for i==2 j is in range(len(out(3-1))-1)  out[1]=[1,1] so len=2-1=1\n",
    "                    inn.append(out[i-1][j]+out[i-1][j+1])\n",
    "                    \n",
    "                inn.append(1)\n",
    "                out.append(inn)\n",
    "                    \n",
    "            i+=1\n",
    "            \n",
    "        return out   \n",
    "                        "
   ]
  }
 ],
 "metadata": {
  "kernelspec": {
   "display_name": "Python 3",
   "language": "python",
   "name": "python3"
  },
  "language_info": {
   "codemirror_mode": {
    "name": "ipython",
    "version": 3
   },
   "file_extension": ".py",
   "mimetype": "text/x-python",
   "name": "python",
   "nbconvert_exporter": "python",
   "pygments_lexer": "ipython3",
   "version": "3.7.6"
  }
 },
 "nbformat": 4,
 "nbformat_minor": 4
}
