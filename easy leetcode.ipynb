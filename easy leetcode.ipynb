{
 "cells": [
  {
   "cell_type": "code",
   "execution_count": null,
   "metadata": {},
   "outputs": [],
   "source": [
    "'''\n",
    "The problem is that we want to reverse a T[] array in O(N) linear time complexity and \n",
    "we want the algorithm to be in-place as well - so no additional memory can be used!\n",
    "\n",
    "For example: input is [1,2,3,4,5] then the output is [5,4,3,2,1]\n",
    "'''"
   ]
  },
  {
   "cell_type": "code",
   "execution_count": 1,
   "metadata": {},
   "outputs": [
    {
     "data": {
      "text/plain": [
       "[5, 4, 3, 2, 1]"
      ]
     },
     "execution_count": 1,
     "metadata": {},
     "output_type": "execute_result"
    }
   ],
   "source": [
    "a=[1,2,3,4,5]\n",
    "a[::-1]"
   ]
  },
  {
   "cell_type": "code",
   "execution_count": 9,
   "metadata": {},
   "outputs": [],
   "source": [
    "def reverse(a):\n",
    "    start = 0\n",
    "    end = len(a)-1\n",
    "    while start<=end:\n",
    "        a[start],a[end] = a[end],a[start]\n",
    "        start += 1\n",
    "        end-=1\n",
    "    print(a)    "
   ]
  },
  {
   "cell_type": "code",
   "execution_count": 11,
   "metadata": {},
   "outputs": [
    {
     "name": "stdout",
     "output_type": "stream",
     "text": [
      "[5, 4, 3, 2, 1]\n"
     ]
    }
   ],
   "source": [
    "reverse(a)"
   ]
  },
  {
   "cell_type": "code",
   "execution_count": 33,
   "metadata": {},
   "outputs": [
    {
     "data": {
      "text/plain": [
       "'not Pallindorme'"
      ]
     },
     "execution_count": 33,
     "metadata": {},
     "output_type": "execute_result"
    }
   ],
   "source": [
    "#pallindrome\n",
    "\n",
    "def palindrome(a):\n",
    "    start = 0\n",
    "    end = len(a)-1\n",
    "    \n",
    "    while a[start]==a[end] and start<=end :\n",
    "        if start==end:\n",
    "            return 'Pallindroem'\n",
    "        start += 1\n",
    "        end=end - 1  \n",
    "    return 'not Pallindorme'   \n",
    "    \n",
    "    \n",
    "palindrome([1,2,3,2,1,2])    "
   ]
  },
  {
   "cell_type": "code",
   "execution_count": 54,
   "metadata": {},
   "outputs": [],
   "source": [
    "#integer reversion \n",
    "def reverse_integer(nums):\n",
    "    nums_str=str(nums).split()\n",
    "    return int(nums_str[0][::-1])"
   ]
  },
  {
   "cell_type": "code",
   "execution_count": 55,
   "metadata": {},
   "outputs": [
    {
     "data": {
      "text/plain": [
       "987654"
      ]
     },
     "execution_count": 55,
     "metadata": {},
     "output_type": "execute_result"
    }
   ],
   "source": [
    "reverse_integer('456789')"
   ]
  },
  {
   "cell_type": "code",
   "execution_count": 3,
   "metadata": {},
   "outputs": [
    {
     "name": "stdout",
     "output_type": "stream",
     "text": [
      "[9, 8, 7, 6, 5]\n"
     ]
    }
   ],
   "source": [
    "def reverse_integer(nums):\n",
    "    lst=[]\n",
    "    while len(str(nums))>1:\n",
    "        rev_num = nums % 10\n",
    "        #print(rev_num)\n",
    "        nums = nums // 10\n",
    "        #print(len(str(nums)))\n",
    "        lst.append(rev_num)\n",
    "    if len(str(nums))==1:\n",
    "        lst.append(nums)\n",
    "    print(lst)    \n",
    "reverse_integer(56789)    "
   ]
  },
  {
   "cell_type": "code",
   "execution_count": null,
   "metadata": {},
   "outputs": [],
   "source": [
    "#Construct an algorithm to check whether two words (or phrases) are anagrams or not!\n",
    "'''\n",
    "An anagram is a word or phrase formed by rearranging the letters of a different word or phrase /\n",
    "typically using all the original letters exactly once\n",
    "'''\n",
    "\n",
    "#restful -->fluster"
   ]
  },
  {
   "cell_type": "code",
   "execution_count": 35,
   "metadata": {},
   "outputs": [],
   "source": [
    "def name(original,anagram):\n",
    "    set1 = set()\n",
    "    set2 = set()\n",
    "    for i in original:\n",
    "        set1.update(i) \n",
    "    for i in anagram:\n",
    "        set2.update(i) \n",
    "    if set1==set2:\n",
    "        print('its a anagram')\n",
    "    else:\n",
    "        print('not an anagram')"
   ]
  },
  {
   "cell_type": "code",
   "execution_count": 37,
   "metadata": {},
   "outputs": [
    {
     "name": "stdout",
     "output_type": "stream",
     "text": [
      "its a anagram\n"
     ]
    }
   ],
   "source": [
    "name('restful','flsuster')"
   ]
  },
  {
   "cell_type": "code",
   "execution_count": 52,
   "metadata": {},
   "outputs": [],
   "source": [
    "#finding duplicates in array with 0(n)\n",
    "\n",
    "#searching each number and then comapring eith rest of number is 0(n^2)\n",
    "\n",
    "def is_dup(nums):\n",
    "    for num in nums:\n",
    "        if nums[abs(num)]>=0:\n",
    "            nums[abs(num)] = -nums[abs(num)] \n",
    "        else:\n",
    "            print('repetition found at index',abs(num))\n"
   ]
  },
  {
   "cell_type": "code",
   "execution_count": 53,
   "metadata": {},
   "outputs": [
    {
     "name": "stdout",
     "output_type": "stream",
     "text": [
      "repetition found at index 1\n",
      "repetition found at index 2\n"
     ]
    }
   ],
   "source": [
    "is_dup([1,2,3,1,2])"
   ]
  },
  {
   "cell_type": "code",
   "execution_count": 23,
   "metadata": {},
   "outputs": [
    {
     "name": "stdout",
     "output_type": "stream",
     "text": [
      "{1: 2, 2: 1, 3: 1, 21: 1}\n",
      "2\n"
     ]
    },
    {
     "data": {
      "text/plain": [
       "False"
      ]
     },
     "execution_count": 23,
     "metadata": {},
     "output_type": "execute_result"
    }
   ],
   "source": [
    "def containsDuplicate(nums):\n",
    "    count={}\n",
    "    \n",
    "    for num in nums:\n",
    "        if num not in count:\n",
    "            count[num]=1\n",
    "        else:\n",
    "            count[num]+=1\n",
    "    \n",
    "    print(count)\n",
    "    for i in count.values():\n",
    "        print(i)\n",
    "        if i!=1:\n",
    "            return False\n",
    "    return True\n",
    "containsDuplicate([1,1,2,3,21])"
   ]
  },
  {
   "cell_type": "code",
   "execution_count": 45,
   "metadata": {},
   "outputs": [
    {
     "data": {
      "text/plain": [
       "[1, 2, 3, 1, 2, 3]"
      ]
     },
     "execution_count": 45,
     "metadata": {},
     "output_type": "execute_result"
    }
   ],
   "source": [
    "a=[1,2,3]\n",
    "a*2"
   ]
  },
  {
   "cell_type": "code",
   "execution_count": null,
   "metadata": {},
   "outputs": [],
   "source": []
  },
  {
   "cell_type": "code",
   "execution_count": 60,
   "metadata": {},
   "outputs": [
    {
     "name": "stdout",
     "output_type": "stream",
     "text": [
      "8\n"
     ]
    }
   ],
   "source": [
    "a = [[1,2,3],[4,2,2],[10,-2]]\n",
    "max_sum=0\n",
    "cur=0\n",
    "for i in range(len(a)):\n",
    "    cur =sum(a[i])\n",
    "    max_sum = max(max_sum,cur)\n",
    "print(max_sum)"
   ]
  },
  {
   "cell_type": "code",
   "execution_count": 80,
   "metadata": {},
   "outputs": [
    {
     "data": {
      "text/plain": [
       "True"
      ]
     },
     "execution_count": 80,
     "metadata": {},
     "output_type": "execute_result"
    }
   ],
   "source": [
    "a=[4,2,1,1,2,1]\n",
    "def max_n(a):\n",
    "    for i in range(len(a)):\n",
    "        if max(a[i]+2,max(a))==a[i]+2:\n",
    "            return True\n",
    "        else:\n",
    "            return False\n",
    "max_n(a)        "
   ]
  },
  {
   "cell_type": "code",
   "execution_count": 74,
   "metadata": {},
   "outputs": [
    {
     "data": {
      "text/plain": [
       "4"
      ]
     },
     "execution_count": 74,
     "metadata": {},
     "output_type": "execute_result"
    }
   ],
   "source": [
    "max(2,max(a))"
   ]
  }
 ],
 "metadata": {
  "kernelspec": {
   "display_name": "Python 3",
   "language": "python",
   "name": "python3"
  },
  "language_info": {
   "codemirror_mode": {
    "name": "ipython",
    "version": 3
   },
   "file_extension": ".py",
   "mimetype": "text/x-python",
   "name": "python",
   "nbconvert_exporter": "python",
   "pygments_lexer": "ipython3",
   "version": "3.7.6"
  }
 },
 "nbformat": 4,
 "nbformat_minor": 4
}
